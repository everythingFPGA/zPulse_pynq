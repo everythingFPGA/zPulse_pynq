{
 "cells": [
  {
   "cell_type": "code",
   "execution_count": null,
   "id": "1cd59b2c",
   "metadata": {},
   "outputs": [],
   "source": [
    "### SYSTEM UPDATE ###\n",
    "import os\n",
    "update = input(\"[Y/N] Are you REALLY sure that you want to PULL the newest version of the code? You may LOSE stuff\\n\")\n",
    "if update == \"y\" or update == \"Y\":\n",
    "    !cd /home/root/jupyter_notebooks/zPulse_pynq && git reset --hard HEAD && git pull\n",
    "    # !cd /home/root/jupyter_notebooks/zPulse_pynq && git reset --hard HEAD && git pull # force update and discard changes\n",
    "    # print(\"Update DONE\")\n",
    "    print(\"Restart the Kernel\")\n",
    "else:\n",
    "    print(\"Update denied\")"
   ]
  }
 ],
 "metadata": {
  "language_info": {
   "name": "python"
  }
 },
 "nbformat": 4,
 "nbformat_minor": 5
}
