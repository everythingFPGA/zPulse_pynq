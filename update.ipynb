{
 "cells": [
  {
   "cell_type": "code",
   "execution_count": null,
   "id": "1cd59b2c",
   "metadata": {},
   "outputs": [],
   "source": [
    "### SYSTEM UPDATE ###\n",
    "import os   \n",
    "import subprocess\n",
    "\n",
    "def run_sudo_command(command):\n",
    "    try:\n",
    "        # Prepend 'sudo' to the command list\n",
    "        full_cmd = ['sudo'] + command\n",
    "        result = subprocess.run(\n",
    "            full_cmd,\n",
    "            check=True,\n",
    "            stdout=subprocess.PIPE,\n",
    "            stderr=subprocess.PIPE,\n",
    "            text=True  # Return output as string instead of bytes\n",
    "        )\n",
    "        print(\"Command output:\")\n",
    "        print(result.stdout)\n",
    "    except subprocess.CalledProcessError as e:\n",
    "        print(\"Error occurred:\")\n",
    "        print(e.stderr)\n",
    "        \n",
    "print(\"You are going to PULL the newest version of the code\")\n",
    "print(\"WARNING: You may LOSE the changes to your code\")\n",
    "update = input(\"Update [Y/N]:\\n\")\n",
    "if update == \"y\" or update == \"Y\":\n",
    "    run_sudo_command(['git','reset','--hard','HEAD','&&','git','pull'])\n",
    "    # run_sudo_command(['git','pull'])\n",
    "    print(\"Restart the Kernel\")\n",
    "else:\n",
    "    print(\"Update denied\")"
   ]
  }
 ],
 "metadata": {
  "language_info": {
   "name": "python"
  }
 },
 "nbformat": 4,
 "nbformat_minor": 5
}
